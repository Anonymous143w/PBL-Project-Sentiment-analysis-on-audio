{
  "nbformat": 4,
  "nbformat_minor": 0,
  "metadata": {
    "colab": {
      "provenance": [],
      "authorship_tag": "ABX9TyPaH2ZJ/JstZaNhZne2k2Gx",
      "include_colab_link": true
    },
    "kernelspec": {
      "name": "python3",
      "display_name": "Python 3"
    },
    "language_info": {
      "name": "python"
    }
  },
  "cells": [
    {
      "cell_type": "markdown",
      "metadata": {
        "id": "view-in-github",
        "colab_type": "text"
      },
      "source": [
        "<a href=\"https://colab.research.google.com/github/Anonymous143w/Project-Sentiment-analysis-on-audio/blob/main/Saved.ipynb\" target=\"_parent\"><img src=\"https://colab.research.google.com/assets/colab-badge.svg\" alt=\"Open In Colab\"/></a>"
      ]
    },
    {
      "cell_type": "code",
      "source": [
        "import pandas as pd\n",
        "import numpy as np\n",
        "import os\n",
        "import seaborn as sns\n",
        "import matplotlib.pyplot as plt\n",
        "import librosa\n",
        "import librosa.display\n",
        "from IPython.display import Audio\n",
        "import warnings\n",
        "warnings.filterwarnings('ignore')\n",
        "import os, glob, pickle"
      ],
      "metadata": {
        "id": "KTXjLeF7cPoZ"
      },
      "execution_count": 8,
      "outputs": []
    },
    {
      "cell_type": "code",
      "source": [
        "def extract_mfcc(filename):\n",
        "     y, sr = librosa.load(filename, duration=3, offset=0.5)\n",
        "     mfcc = np.mean(librosa.feature.mfcc(y=y, sr=sr, n_mfcc=40).T, axis=0)\n",
        "     return mfcc"
      ],
      "metadata": {
        "id": "qUAuYdZ3cKb8"
      },
      "execution_count": 9,
      "outputs": []
    },
    {
      "cell_type": "code",
      "execution_count": 7,
      "metadata": {
        "colab": {
          "base_uri": "https://localhost:8080/"
        },
        "id": "gb346oFzbdCT",
        "outputId": "a8c3e248-3b46-4662-8aec-d6e5a911f89f"
      },
      "outputs": [
        {
          "output_type": "stream",
          "name": "stdout",
          "text": [
            "1/1 [==============================] - 1s 735ms/step\n",
            "Predicted sentiment: disgust\n"
          ]
        }
      ],
      "source": [
        "filename = 'Model2.h5'\n",
        "loaded_model = pickle.load(open(filename, 'rb')) # loading the model file from the storage\n",
        "\n",
        "feature=extract_mfcc(\"/content/YAF_back_disgust.wav\")\n",
        "\n",
        "feature=feature.reshape(1,-1)\n",
        "\n",
        "prediction=loaded_model.predict(feature)\n",
        "\n",
        "# Convert numerical predictions to sentiment labels\n",
        "sentiment_labels = ['angry','disgust','fear','happy','neutral','ps','sad' ]  # Replace with your actual sentiment labels\n",
        "\n",
        "# Get the index of the highest probability\n",
        "predicted_index = np.argmax(prediction)\n",
        "\n",
        "# Get the corresponding sentiment label\n",
        "predicted_sentiment = sentiment_labels[predicted_index]\n",
        "\n",
        "print(\"Predicted sentiment:\", predicted_sentiment)"
      ]
    }
  ]
}